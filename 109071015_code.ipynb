{
 "cells": [
  {
   "cell_type": "code",
   "execution_count": 3,
   "id": "586d8a70-f131-45eb-b274-7d6734f018d0",
   "metadata": {},
   "outputs": [],
   "source": [
    "import pandas as pd\n",
    "import numpy as np\n",
    "import yfinance as yf\n",
    "import matplotlib.pyplot as plt\n",
    "import time\n",
    "from scipy.stats import poisson, chisquare"
   ]
  },
  {
   "cell_type": "code",
   "execution_count": 4,
   "id": "eb356021-d8a8-4335-8a3e-9a63c8edfcf0",
   "metadata": {},
   "outputs": [],
   "source": [
    "def calculate_RSI(data, window=14):\n",
    "    # 計算每日收益\n",
    "    delta = data['Close'].diff()\n",
    "    gain = (delta.where(delta > 0, 0)).fillna(0)\n",
    "    loss = (-delta.where(delta < 0, 0)).fillna(0)\n",
    "\n",
    "    # 計算平均收益和平均損失\n",
    "    avg_gain = gain.rolling(window=window, min_periods=1).mean() #min_periods: 計算所需的最小期間\n",
    "    avg_loss = loss.rolling(window=window, min_periods=1).mean()\n",
    "\n",
    "    rs = avg_gain / avg_loss # 計算RS\n",
    "    rsi = 100 - (100 / (1 + rs)) # 計算RSI\n",
    "\n",
    "    return rsi"
   ]
  },
  {
   "cell_type": "code",
   "execution_count": 5,
   "id": "fa4e1b66-6962-4e5f-a897-f57fe1dd4294",
   "metadata": {},
   "outputs": [],
   "source": [
    "def poisson_1 (data):\n",
    "    rsi = data[\"RSI\"].to_list()\n",
    "    delta = data[\"Close\"].diff().to_list()\n",
    "    b, s = 0, 0\n",
    "    cb, cs = [], [] #c of overbought, c of oversold.\n",
    "    x = 0\n",
    "    for i in range(1, len(rsi)):\n",
    "        if rsi[i-1] >= 70:\n",
    "            #x = 1\n",
    "            if delta[i] > 0: b += 1\n",
    "            elif (delta[i] < 0 and b != 0) or (delta[i]<0 and b == 0 and x == 0):\n",
    "                cb.append(b)\n",
    "                b, x = 0, 0\n",
    "            elif delta[i] < 0 and b == 0 and x == 1: pass\n",
    "            x = 1\n",
    "        elif rsi[i-1] <= 30:\n",
    "            #x = 2\n",
    "            if delta[i] < 0: s += 1\n",
    "            elif (delta[i] > 0 and s != 0) or (delta[i]>0 and s == 0 and x == 0):\n",
    "                cs.append(s)\n",
    "                s, x = 0, 0\n",
    "            elif delta[i] > 0 and s == 0 and x == 2: pass\n",
    "            x = 2\n",
    "        else:\n",
    "            if x == 1 and b != 0:\n",
    "                cb.append(b)\n",
    "                b, x = 0, 0\n",
    "            elif x == 2 and s != 0:\n",
    "                cs.append(s)\n",
    "                s, x = 0, 0\n",
    "            else:\n",
    "                pass\n",
    "    return cb, cs"
   ]
  },
  {
   "cell_type": "code",
   "execution_count": 25,
   "id": "49c9b3e8",
   "metadata": {},
   "outputs": [],
   "source": [
    "def poisson_2 (data):\n",
    "    rsi = data[\"RSI\"].to_list()\n",
    "    delta = data[\"Close\"].diff().to_list()\n",
    "    price = data[\"Close\"].to_list()\n",
    "    #b, s = 0, 0\n",
    "    cb, cs = [], [] #c of overbought, c of oversold.\n",
    "    pct_b, pct_s = 0, 0 #變動百分比\n",
    "    x = 0\n",
    "    t = 50\n",
    "    for i in range(1, len(rsi)):\n",
    "        if rsi[i-1] >= 70:\n",
    "            #x = 1\n",
    "            if delta[i] > 0: pct_b += abs(delta[i]/price[i-1])\n",
    "            elif (delta[i] < 0 and pct_b != 0) or (delta[i]<0 and pct_b == 0 and x == 0):\n",
    "                cb.append(round(pct_b*t))\n",
    "                pct_b, x = 0, 0\n",
    "            elif delta[i] < 0 and pct_b == 0: pass\n",
    "            x = 1\n",
    "        elif rsi[i-1] <= 30:\n",
    "            #x = 2\n",
    "            if delta[i] < 0: pct_s += abs(delta[i]/price[i-1])\n",
    "            elif (delta[i] < 0 and pct_s != 0) or (delta[i]<0 and pct_s == 0 and x == 0):\n",
    "                cs.append(round(pct_s*t))\n",
    "                pct_s, x = 0, 0\n",
    "            elif delta[i] < 0 and pct_s == 0: pass\n",
    "            x = 2\n",
    "        else:\n",
    "            if x == 1 and pct_b != 0:\n",
    "                cb.append(round(pct_b*t))\n",
    "                pct_b, x = 0, 0\n",
    "            elif x == 2 and pct_s != 0:\n",
    "                cs.append(round(pct_s*t))\n",
    "                pct_s, x = 0, 0\n",
    "            else:\n",
    "                pass\n",
    "    return cb, cs"
   ]
  },
  {
   "cell_type": "code",
   "execution_count": 7,
   "id": "c94c7508-bf16-4664-980d-43ae0de50397",
   "metadata": {},
   "outputs": [],
   "source": [
    "def chisquare_test(x, Lambda):\n",
    "    adj = []\n",
    "    for i in x:\n",
    "        if i not in adj: adj.append(i)\n",
    "    adj.sort()\n",
    "    counts = [0]*(adj[-1]+1)\n",
    "    for i in x: counts[i] += 1\n",
    "    #print(counts)\n",
    "\n",
    "    observed_frequencies, lambda_poisson = counts, Lambda\n",
    "    expected_frequencies = np.array([poisson.pmf(k, lambda_poisson) * sum(observed_frequencies) for k in range(len(observed_frequencies))])\n",
    "    expected_frequencies *= np.sum(observed_frequencies) / np.sum(expected_frequencies)\n",
    "    chi2_stat, p_value = chisquare(f_obs=observed_frequencies, f_exp=expected_frequencies, ddof = len(adj)-2)\n",
    "    #print(chi2_stat, p_value)\n",
    "    return round(p_value, 3)"
   ]
  },
  {
   "cell_type": "code",
   "execution_count": 8,
   "id": "01fcbd0d-dbea-4b5d-a854-7aa5bbc5ae63",
   "metadata": {},
   "outputs": [],
   "source": [
    "def results (symbol=\"5274.two\", start=\"2023-01-01\", end=\"2024-01-01\"):\n",
    "    data = yf.download(symbol, start, end)\n",
    "    data['RSI'] = calculate_RSI(data, window=14)\n",
    "    cb1, cs1 = poisson_1(data)\n",
    "    lambda_b1, lambda_s1 = sum(cb1)/len(cb1), sum(cs1)/len(cs1)\n",
    "    cb2, cs2 = poisson_2(data)\n",
    "    lambda_b2, lambda_s2 = sum(cb2)/len(cb2), sum(cs2)/len(cs2)\n",
    "    print(symbol)\n",
    "    print(\"assumption 1:\")\n",
    "    print(\"overbought: \", chisquare_test(cb1, lambda_b1), \"oversold: \", chisquare_test(cs1, lambda_s1))\n",
    "    print(\"assumption 2:\")\n",
    "    print(\"overbought: \", chisquare_test(cb2, lambda_b2), \"oversold: \", chisquare_test(cs2, lambda_s2))\n",
    "    return"
   ]
  },
  {
   "cell_type": "markdown",
   "id": "a95852f5-d2c9-42a7-b744-0fd43104fef2",
   "metadata": {},
   "source": [
    "### Example"
   ]
  },
  {
   "cell_type": "code",
   "execution_count": 9,
   "id": "1667f8d9-899f-4154-9026-b3568781749f",
   "metadata": {},
   "outputs": [
    {
     "name": "stdout",
     "output_type": "stream",
     "text": [
      "[*********************100%%**********************]  1 of 1 completed\n"
     ]
    }
   ],
   "source": [
    "symbol = '5274.two'\n",
    "data = yf.download(symbol, start='2020-01-01', end='2024-01-01')"
   ]
  },
  {
   "cell_type": "code",
   "execution_count": 10,
   "id": "29b1ae20-6613-433c-bfb6-9c1c1eab8051",
   "metadata": {},
   "outputs": [],
   "source": [
    "data['RSI'] = calculate_RSI(data, window=14)"
   ]
  },
  {
   "cell_type": "code",
   "execution_count": 11,
   "id": "5597b438-3f88-4e65-8266-0c420449b4d6",
   "metadata": {},
   "outputs": [
    {
     "data": {
      "text/plain": [
       "Date\n",
       "2020-01-02          NaN\n",
       "2020-01-03     0.000000\n",
       "2020-01-06     0.000000\n",
       "2020-01-07    28.571446\n",
       "2020-01-08    23.188424\n",
       "                ...    \n",
       "2023-12-25    71.739130\n",
       "2023-12-26    72.142857\n",
       "2023-12-27    68.032787\n",
       "2023-12-28    62.406015\n",
       "2023-12-29    56.896552\n",
       "Name: RSI, Length: 973, dtype: float64"
      ]
     },
     "execution_count": 11,
     "metadata": {},
     "output_type": "execute_result"
    }
   ],
   "source": [
    "data['RSI'] "
   ]
  },
  {
   "cell_type": "code",
   "execution_count": 12,
   "id": "6896f563-5e34-4767-93d3-332d18da05bf",
   "metadata": {},
   "outputs": [
    {
     "name": "stdout",
     "output_type": "stream",
     "text": [
      "1.565217391304348\n"
     ]
    },
    {
     "data": {
      "image/png": "[encoded data removed]",
      "text/plain": [
       "<Figure size 640x480 with 1 Axes>"
      ]
     },
     "metadata": {},
     "output_type": "display_data"
    }
   ],
   "source": [
    "cb = poisson_1(data)[0]\n",
    "lambda_b = sum(cb)/len(cb) #estimated lambda\n",
    "print(lambda_b)\n",
    "plt.plot([i for i in range(0, 11)], [poisson.pmf(i, lambda_b) for i in range(0, 11)])\n",
    "plt.plot([i for i in range(0, 11)], [poisson.cdf(i, lambda_b) for i in range(0, 11)])\n",
    "plt.show()"
   ]
  },
  {
   "cell_type": "code",
   "execution_count": 13,
   "id": "bb134da3-7e9f-466e-8f85-963cac452983",
   "metadata": {},
   "outputs": [
    {
     "name": "stdout",
     "output_type": "stream",
     "text": [
      "1.0909090909090908\n"
     ]
    },
    {
     "data": {
      "image/png": "[encoded data removed]",
      "text/plain": [
       "<Figure size 640x480 with 1 Axes>"
      ]
     },
     "metadata": {},
     "output_type": "display_data"
    }
   ],
   "source": [
    "cs = poisson_1(data)[1]\n",
    "lambda_s = sum(cs)/len(cs) #estimated lambda\n",
    "print(lambda_s)\n",
    "plt.plot([i for i in range(0, 11)], [poisson.pmf(i, lambda_s) for i in range(0, 11)])\n",
    "plt.plot([i for i in range(0, 11)], [poisson.cdf(i, lambda_s) for i in range(0, 11)])\n",
    "plt.show()"
   ]
  },
  {
   "cell_type": "code",
   "execution_count": 14,
   "id": "155e9297-fa8e-4f8b-a134-f036cdb49dfd",
   "metadata": {},
   "outputs": [
    {
     "data": {
      "text/plain": [
       "(0.022, 0.001)"
      ]
     },
     "execution_count": 14,
     "metadata": {},
     "output_type": "execute_result"
    }
   ],
   "source": [
    "chisquare_test(cb, lambda_b), chisquare_test(cs, lambda_s)"
   ]
  },
  {
   "cell_type": "code",
   "execution_count": 15,
   "id": "121d24bf-eabf-4484-a195-773ae417573d",
   "metadata": {},
   "outputs": [],
   "source": [
    "cb, cs = poisson_2(data)"
   ]
  },
  {
   "cell_type": "code",
   "execution_count": 16,
   "id": "bb88dcb1-41ec-4723-b91a-444f670bb08f",
   "metadata": {},
   "outputs": [
    {
     "name": "stdout",
     "output_type": "stream",
     "text": [
      "2.2\n"
     ]
    },
    {
     "data": {
      "image/png": "[encoded data removed]",
      "text/plain": [
       "<Figure size 640x480 with 1 Axes>"
      ]
     },
     "metadata": {},
     "output_type": "display_data"
    }
   ],
   "source": [
    "lambda_b = sum(cb)/len(cb) #estimated lambda\n",
    "print(lambda_b)\n",
    "plt.plot([i for i in range(0, 11)], [poisson.pmf(i, lambda_b) for i in range(0, 11)])\n",
    "plt.plot([i for i in range(0, 11)], [poisson.cdf(i, lambda_b) for i in range(0, 11)])\n",
    "plt.show()"
   ]
  },
  {
   "cell_type": "code",
   "execution_count": 17,
   "id": "789004a1-4984-443e-89ba-a2908076b7a5",
   "metadata": {},
   "outputs": [
    {
     "name": "stdout",
     "output_type": "stream",
     "text": [
      "2.857142857142857\n"
     ]
    },
    {
     "data": {
      "image/png": "[encoded data removed]",
      "text/plain": [
       "<Figure size 640x480 with 1 Axes>"
      ]
     },
     "metadata": {},
     "output_type": "display_data"
    }
   ],
   "source": [
    "lambda_s = sum(cs)/len(cs) #estimated lambda\n",
    "print(lambda_s)\n",
    "plt.plot([i for i in range(0, 11)], [poisson.pmf(i, lambda_s) for i in range(0, 11)])\n",
    "plt.plot([i for i in range(0, 11)], [poisson.cdf(i, lambda_s) for i in range(0, 11)])\n",
    "plt.show()"
   ]
  },
  {
   "cell_type": "code",
   "execution_count": 18,
   "id": "0504637c-5b4b-4f30-9da6-44ad1aa13297",
   "metadata": {},
   "outputs": [
    {
     "data": {
      "text/plain": [
       "(0.0, 0.005)"
      ]
     },
     "execution_count": 18,
     "metadata": {},
     "output_type": "execute_result"
    }
   ],
   "source": [
    "chisquare_test(cb, lambda_b), chisquare_test(cs, lambda_s)"
   ]
  },
  {
   "cell_type": "markdown",
   "id": "9475283b-86a8-4b13-8763-58e5cf3a8ed1",
   "metadata": {},
   "source": [
    "### 上市、上櫃基準: 發行日早於2023/01/01"
   ]
  },
  {
   "cell_type": "markdown",
   "id": "7f5a0041-e8b1-4db0-be99-e78f026914db",
   "metadata": {},
   "source": [
    "### 1. 上市ETF、市值前5名"
   ]
  },
  {
   "cell_type": "code",
   "execution_count": 23,
   "id": "513bbf46-9d54-4ed9-9481-c932506b4b67",
   "metadata": {},
   "outputs": [
    {
     "name": "stdout",
     "output_type": "stream",
     "text": [
      "[*********************100%%**********************]  1 of 1 completed\n",
      "0050.tw\n",
      "assumption 1:\n",
      "overbought:  0.114 oversold:  0.346\n",
      "assumption 2:\n",
      "overbought:  0.052 oversold:  0.564\n",
      "[*********************100%%**********************]  1 of 1 completed\n",
      "0056.tw\n",
      "assumption 1:\n",
      "overbought:  0.0 oversold:  0.346\n",
      "assumption 2:\n",
      "overbought:  0.0 oversold:  0.756\n",
      "[*********************100%%**********************]  1 of 1 completed\n",
      "00878.tw\n",
      "assumption 1:\n",
      "overbought:  0.003 oversold:  0.682\n",
      "assumption 2:\n",
      "overbought:  0.0 oversold:  0.607\n",
      "[*********************100%%**********************]  1 of 1 completed\n",
      "00919.tw\n",
      "assumption 1:\n",
      "overbought:  0.0 oversold:  0.48\n",
      "assumption 2:\n",
      "overbought:  0.0 oversold:  0.617\n",
      "[*********************100%%**********************]  1 of 1 completed\n",
      "006208.tw\n",
      "assumption 1:\n",
      "overbought:  0.083 oversold:  0.379\n",
      "assumption 2:\n",
      "overbought:  0.052 oversold:  0.564\n"
     ]
    }
   ],
   "source": [
    "symbol_list = [\"0050.tw\", \"0056.tw\", \"00878.tw\", \"00919.tw\", \"006208.tw\"]\n",
    "for i in symbol_list:\n",
    "    results(symbol=i)"
   ]
  },
  {
   "cell_type": "markdown",
   "id": "02deed61-7b74-497d-8bd0-7bf0808e2557",
   "metadata": {},
   "source": [
    "### 2. 上櫃ETF、市值前5名"
   ]
  },
  {
   "cell_type": "code",
   "execution_count": 24,
   "id": "51419a48-1f61-4fca-a4ea-082e0a85cffc",
   "metadata": {},
   "outputs": [
    {
     "name": "stdout",
     "output_type": "stream",
     "text": [
      "[*********************100%%**********************]  1 of 1 completed\n",
      "00679b.two\n",
      "assumption 1:\n",
      "overbought:  0.039 oversold:  0.0\n",
      "assumption 2:\n",
      "overbought:  0.001 oversold:  0.0\n",
      "[*********************100%%**********************]  1 of 1 completed\n",
      "00687b.two\n",
      "assumption 1:\n",
      "overbought:  0.233 oversold:  0.044\n",
      "assumption 2:\n",
      "overbought:  0.289 oversold:  0.0\n",
      "[*********************100%%**********************]  1 of 1 completed\n",
      "00751b.two\n",
      "assumption 1:\n",
      "overbought:  0.039 oversold:  0.002\n",
      "assumption 2:\n",
      "overbought:  0.001 oversold:  0.004\n",
      "[*********************100%%**********************]  1 of 1 completed\n",
      "00720b.two\n",
      "assumption 1:\n",
      "overbought:  0.0 oversold:  0.267\n",
      "assumption 2:\n",
      "overbought:  0.0 oversold:  0.064\n",
      "[*********************100%%**********************]  1 of 1 completed\n",
      "00772b.two\n",
      "assumption 1:\n",
      "overbought:  0.104 oversold:  0.308\n",
      "assumption 2:\n",
      "overbought:  0.007 oversold:  0.261\n"
     ]
    }
   ],
   "source": [
    "symbol_list = [\"00679b.two\", \"00687b.two\", \"00751b.two\", \"00720b.two\", \"00772b.two\"]\n",
    "for i in symbol_list:\n",
    "    results(symbol=i)"
   ]
  },
  {
   "cell_type": "markdown",
   "id": "8386fd6e-c4f2-473b-aa6d-fc7ee7bfb521",
   "metadata": {},
   "source": [
    "### 3. 加權指數、櫃買指數"
   ]
  },
  {
   "cell_type": "code",
   "execution_count": 21,
   "id": "d4c6a385-02e5-44fd-a41f-2ed9a6058271",
   "metadata": {},
   "outputs": [
    {
     "name": "stdout",
     "output_type": "stream",
     "text": [
      "[*********************100%%**********************]  1 of 1 completed\n",
      "^TWII\n",
      "assumption 1:\n",
      "overbought:  0.231 oversold:  0.194\n",
      "assumption 2:\n",
      "overbought:  0.558 oversold:  1.0\n",
      "[*********************100%%**********************]  1 of 1 completed\n",
      "^TWOII\n",
      "assumption 1:\n",
      "overbought:  0.0 oversold:  0.489\n",
      "assumption 2:\n",
      "overbought:  0.06 oversold:  0.739\n"
     ]
    }
   ],
   "source": [
    "symbol_list = [\"^TWII\", \"^TWOII\"]\n",
    "for i in symbol_list:\n",
    "    results(symbol=i)"
   ]
  },
  {
   "cell_type": "code",
   "execution_count": null,
   "id": "a98c20bc-09b2-4d1e-b7d0-acd6e4f0b52f",
   "metadata": {},
   "outputs": [],
   "source": []
  }
 ],
 "metadata": {
  "kernelspec": {
   "display_name": "Python 3 (ipykernel)",
   "language": "python",
   "name": "python3"
  },
  "language_info": {
   "codemirror_mode": {
    "name": "ipython",
    "version": 3
   },
   "file_extension": ".py",
   "mimetype": "text/x-python",
   "name": "python",
   "nbconvert_exporter": "python",
   "pygments_lexer": "ipython3",
   "version": "3.11.9"
  }
 },
 "nbformat": 4,
 "nbformat_minor": 5
}
